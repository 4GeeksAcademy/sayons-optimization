{
 "cells": [
  {
   "attachments": {},
   "cell_type": "markdown",
   "id": "27b09e13",
   "metadata": {},
   "source": [
    "# Problemas de optimización de algoritmos"
   ]
  },
  {
   "cell_type": "code",
   "execution_count": 9,
   "id": "96ce04ef",
   "metadata": {},
   "outputs": [],
   "source": [
    "import string\n",
    "import math\n",
    "from collections import Counter, deque"
   ]
  },
  {
   "attachments": {},
   "cell_type": "markdown",
   "id": "ed05e9bf",
   "metadata": {},
   "source": [
    "## Ejercicio 1\n",
    "### Optimización de código para procesamiento de texto\n",
    "\n",
    "Se te ha entregado un código de procesamiento de texto que realiza las siguientes operaciones:\n",
    "\n",
    "1. Convierte todo el texto a minúsculas.\n",
    "2. Elimina los signos de puntuación.\n",
    "3. Cuenta la frecuencia de cada palabra.\n",
    "4. Muestra las 5 palabras mas comunes.\n",
    "\n",
    "El código funciona, pero es ineficiente y puede optimizarse. Tu tarea es identificar las áreas que pueden ser mejoradas y reescribir esas partes para hacer el código mas eficiente y legible.\n"
   ]
  },
  {
   "cell_type": "code",
   "execution_count": null,
   "id": "8467465b",
   "metadata": {},
   "outputs": [],
   "source": [
    "\"\"\"def process_text(text):\n",
    "    text = text.lower()  # Texto a minuscula\n",
    "    # Eliminación de puntuaciones\n",
    "    for p in string.punctuation:\n",
    "        text = text.replace(p, \"\")\n",
    "    words = text.split()  # Split text into words\n",
    "    # Conteo de frecuencias\n",
    "    frequencies = {}\n",
    "    for w in words:\n",
    "        if w in frequencies:\n",
    "            frequencies[w] += 1\n",
    "        else:\n",
    "            frequencies[w] = 1\n",
    "    sorted_frequencies = sorted(frequencies.items(), key=lambda x: x[1], reverse=True)\n",
    "    # Obtener las 5 palabras más comunes\n",
    "    top_5 = sorted_frequencies[:5]\n",
    "    for w, frequency in top_5:\n",
    "        print(f\"'{w}': {frequency} times\")\n",
    "\n",
    "\n",
    "text = In the heart of the city, Emily discovered a quaint little café, hidden away from the bustling streets. \n",
    "          The aroma of freshly baked pastries wafted through the air, drawing in passersby. As she sipped on her latte, \n",
    "          she noticed an old bookshelf filled with classics, creating a cozy atmosphere that made her lose track of time.\n",
    "process_text(text)\"\"\""
   ]
  },
  {
   "cell_type": "markdown",
   "id": "29040779",
   "metadata": {},
   "source": [
    "### Puntos a optimizar:\n",
    "\n",
    "1. **Eliminar los signos de puntuación**: Usar `replace`  en un ciclo puede ser ineficiente, especialmente con textos largos. Busca una formas eficiente de eliminar los signos de puntuación.\n",
    "2. **Contador de frecuencia**: El código verifica la existencia de cada palabra en el diccionario y luego actualiza su cuenta. Esto puede hacerse mas eficientemente con ciertas estructuras de datos en Python.\n",
    "3. **Ordenar y seleccionar:** Considera si hay una forma mas directa o efectiva de obtener las 5 palabras mas frecuentes sin ordenar todas las palabras.\n",
    "4. **Modularidad**: Divide el código en funciones mas pequeñas para que cada una puede realizar una tarea específica. Esto no solo optimizará el desempeño, sino también hará el código mas legible y mantenible."
   ]
  },
  {
   "cell_type": "code",
   "execution_count": 20,
   "id": "57cd6641",
   "metadata": {},
   "outputs": [
    {
     "name": "stdout",
     "output_type": "stream",
     "text": [
      "'the': 5 times\n",
      "'of': 3 times\n",
      "'in': 2 times\n",
      "'a': 2 times\n",
      "'she': 2 times\n"
     ]
    }
   ],
   "source": [
    "def process_text(text):\n",
    "    print(*[f\"'{word}': {count} times\" for word, count in Counter(text.lower().translate(str.maketrans('', '', string.punctuation)).split()).most_common(5)], sep='\\n')\n",
    "\n",
    "text = \"\"\"In the heart of the city, Emily discovered a quaint little café, hidden away from the bustling streets. \n",
    "          The aroma of freshly baked pastries wafted through the air, drawing in passersby. As she sipped on her latte, \n",
    "          she noticed an old bookshelf filled with classics, creating a cozy atmosphere that made her lose track of time.\"\"\"\n",
    "process_text(text)"
   ]
  },
  {
   "cell_type": "markdown",
   "id": "233a92b8",
   "metadata": {},
   "source": [
    "### El trozo de código anterior se puede comprimir a una sola línea utilizando las librerías \"string\" y \"counter\":\n",
    "\n",
    "   1. Utilizamos `text.lower()` para convertir a minúsculas\n",
    "   2. Luego utilizamos `.translate(str.maketrans('', '', string.punctuation))` para eliminar la puntuación\n",
    "   3. Después `.split()` para dividir en palabras\n",
    "   4. Usamos `Counter(...).most_common(5)` para contar y ordenar las 5 palabras más comunes según su frecuencia\n",
    "   5. Y mostramos la salida con `print(..., sep='\\n')`"
   ]
  },
  {
   "attachments": {},
   "cell_type": "markdown",
   "id": "011996bc",
   "metadata": {},
   "source": [
    "## Ejercicio 2\n",
    "### Optimización de código para procesamiento de listas\n",
    "\n",
    "Se te ha dado el siguiente código que realiza operaciones en una lista de números para:\n",
    "\n",
    "1. Filtrar los números pares.\n",
    "2. Duplicar cada número.\n",
    "3. Sumar todos los números.\n",
    "4. Verificar si el resultado es un número primo.\n",
    "\n",
    "El código entregado logra los objetivos, pero puede ser ineficiente. Tu tarea es identificar y mejorar las partes de ese código para mejorar su eficiencia."
   ]
  },
  {
   "cell_type": "markdown",
   "id": "21c4d677",
   "metadata": {},
   "source": [
    "Ambos ejercicios  ayudarán a mejorar tu habilidad de optimizar el desempeño del código y te darán un mejor entendimiento de como las diferentes estructuras de datos y técnicas de programación pueden afectar la eficiencia de tu código."
   ]
  },
  {
   "cell_type": "code",
   "execution_count": null,
   "id": "783d03a0",
   "metadata": {},
   "outputs": [
    {
     "name": "stdout",
     "output_type": "stream",
     "text": [
      "Result: 60, ¿Prime? No\n"
     ]
    }
   ],
   "source": [
    "\"\"\"def is_prime(n):\n",
    "    if n <= 1:\n",
    "        return False\n",
    "    for i in range(2, int(math.sqrt(n)) + 1):\n",
    "        if n % i == 0:\n",
    "            return False\n",
    "    return True\n",
    "\n",
    "\n",
    "def process_list(list_):\n",
    "    filtered_list = []\n",
    "    for num in list_:\n",
    "        if num % 2 == 0:\n",
    "            filtered_list.append(num)\n",
    "        duplicate_list = []\n",
    "    for num in filtered_list:\n",
    "        duplicate_list.append(num * 2)\n",
    "    sum = 0\n",
    "    for num in duplicate_list:\n",
    "        sum += num\n",
    "    prime = is_prime(sum)\n",
    "    return sum, prime\n",
    "\n",
    "\n",
    "list_ = [1, 2, 3, 4, 5, 6, 7, 8, 9, 10]\n",
    "result, result_prime = process_list(list_)\n",
    "print(f\"Result: {result}, ¿Prime? {'Yes' if result_prime else 'No'}\")\"\"\""
   ]
  },
  {
   "cell_type": "markdown",
   "id": "128d564e",
   "metadata": {},
   "source": [
    "### Puntos a optimizar:\n",
    "\n",
    "1. **Filtrar las números**: El código recorre la lista original para filtrar los números pares. Considera una forma mas eficiente de filtrar la lista.\n",
    "2. **Duplicación**: La lista es atravesada varias veces. ¿Hay alguna manera de hacer esto mas eficientemente?\n",
    "3. **Suma**: Los números en la lista se suman a traves de un bucle. Python trae incluidas unas funciones que pueden optimizar esto.\n",
    "4. **Función `is_prime`**: Aunque ésta función es relativamente eficiente, investiga si hay maneras de hacerla aun más rápida.\n",
    "5. **Modularidad**: Considera dividir el código en funciones más pequeñas, cada una enfocada en una tarea específica."
   ]
  },
  {
   "cell_type": "code",
   "execution_count": null,
   "id": "f40e35d6",
   "metadata": {},
   "outputs": [
    {
     "name": "stdout",
     "output_type": "stream",
     "text": [
      "Result: 60, ¿Prime? No\n"
     ]
    }
   ],
   "source": [
    "is_prime = lambda number: number > 1 and all(number % multiplo for multiplo in range(2, int(math.sqrt(number)) + 1))\n",
    "process_list = lambda lista: (sum_total := sum(number * 2 for number in lista if number % 2 == 0), is_prime(sum_total))\n",
    "\n",
    "\n",
    "list_ = [1, 2, 3, 4, 5, 6, 7, 8, 9, 10]\n",
    "result, result_prime = process_list(list_)\n",
    "print(f\"Result: {result}, ¿Prime? {'Yes' if result_prime else 'No'}\")"
   ]
  },
  {
   "cell_type": "markdown",
   "id": "f780efbb",
   "metadata": {},
   "source": [
    "### En este ejercicio podemos reducir las dos funciones a funciones lambda:\n",
    "    \n",
    "1. En la primera función: hemos renombrado algunas variables para que haya mayor claridad en el código\n",
    "2. Uso de `all()` para comprobar si todos los elementos de un iterable son verdaderos\n",
    "3. En la segunda función: renombramos la variable sum porque es un nombre reservado\n",
    "4. Uso del operador walrus `:=` para guardar el valor de la suma y reutilizarlo"
   ]
  },
  {
   "cell_type": "markdown",
   "id": "04931104",
   "metadata": {},
   "source": [
    "## Conclusión:\n",
    "\n",
    "### Yo saco de este ejercicio que la optimización puede llevarte a tener un código menos legible, lo cual puede ser un problema a niveles mas bajos o inexpertos. Así que entiendo que hay que buscar el equilibrio entre claridad y eficiencia."
   ]
  }
 ],
 "metadata": {
  "kernelspec": {
   "display_name": "Python 3",
   "language": "python",
   "name": "python3"
  },
  "language_info": {
   "codemirror_mode": {
    "name": "ipython",
    "version": 3
   },
   "file_extension": ".py",
   "mimetype": "text/x-python",
   "name": "python",
   "nbconvert_exporter": "python",
   "pygments_lexer": "ipython3",
   "version": "3.11.4"
  }
 },
 "nbformat": 4,
 "nbformat_minor": 5
}
